{
 "cells": [
  {
   "cell_type": "markdown",
   "metadata": {},
   "source": [
    "Training a simple linear model"
   ]
  },
  {
   "cell_type": "code",
   "execution_count": 1,
   "metadata": {},
   "outputs": [],
   "source": [
    "import pip"
   ]
  },
  {
   "cell_type": "code",
   "execution_count": 2,
   "metadata": {},
   "outputs": [],
   "source": [
    "#pip.main(['install','tensorflow'])"
   ]
  },
  {
   "cell_type": "code",
   "execution_count": 3,
   "metadata": {},
   "outputs": [
    {
     "name": "stderr",
     "output_type": "stream",
     "text": [
      "C:\\Users\\Administrator\\Anaconda3\\lib\\site-packages\\h5py\\__init__.py:36: FutureWarning: Conversion of the second argument of issubdtype from `float` to `np.floating` is deprecated. In future, it will be treated as `np.float64 == np.dtype(float).type`.\n",
      "  from ._conv import register_converters as _register_converters\n"
     ]
    }
   ],
   "source": [
    "import tensorflow as tf"
   ]
  },
  {
   "cell_type": "code",
   "execution_count": 4,
   "metadata": {},
   "outputs": [],
   "source": [
    "#Variables\n",
    "#first run\n",
    "#W = tf.Variable([.3],tf.float32)\n",
    "#b=tf.Variable([-.3],tf.float32)\n",
    "#second run\n",
    "W = tf.Variable([-1.0],tf.float32)\n",
    "b=tf.Variable([1.0],tf.float32)"
   ]
  },
  {
   "cell_type": "code",
   "execution_count": 5,
   "metadata": {},
   "outputs": [],
   "source": [
    "#placeholders\n",
    "x=tf.placeholder(tf.float32)\n",
    "#labela\n",
    "y=tf.placeholder(tf.float32)"
   ]
  },
  {
   "cell_type": "code",
   "execution_count": 6,
   "metadata": {},
   "outputs": [],
   "source": [
    "#linear model\n",
    "linear_model = W*x+b"
   ]
  },
  {
   "cell_type": "code",
   "execution_count": 7,
   "metadata": {},
   "outputs": [],
   "source": [
    "#loss\n",
    "squared=tf.square(linear_model-y)\n",
    "loss=tf.reduce_sum(squared)"
   ]
  },
  {
   "cell_type": "code",
   "execution_count": 8,
   "metadata": {},
   "outputs": [],
   "source": [
    "init=tf.global_variables_initializer()"
   ]
  },
  {
   "cell_type": "code",
   "execution_count": 9,
   "metadata": {},
   "outputs": [],
   "source": [
    "sess=tf.Session()\n",
    "sess.run(init)"
   ]
  },
  {
   "cell_type": "code",
   "execution_count": 10,
   "metadata": {},
   "outputs": [
    {
     "name": "stdout",
     "output_type": "stream",
     "text": [
      "0.0\n"
     ]
    }
   ],
   "source": [
    "print(sess.run(loss,{x:[1,2,3,4],y:[0,-1,-2,-3]}))"
   ]
  },
  {
   "cell_type": "code",
   "execution_count": 11,
   "metadata": {},
   "outputs": [],
   "source": [
    "sess.close()"
   ]
  },
  {
   "cell_type": "markdown",
   "metadata": {},
   "source": [
    "#goback after first iteration to manually change the value of W and b\n",
    "#move after the second iteration to automate"
   ]
  },
  {
   "cell_type": "code",
   "execution_count": 12,
   "metadata": {},
   "outputs": [],
   "source": [
    "W = tf.Variable([.3],tf.float32)\n",
    "b=tf.Variable([-.3],tf.float32)\n",
    "#placeholders\n",
    "x=tf.placeholder(tf.float32)\n",
    "#labela\n",
    "y=tf.placeholder(tf.float32)\n",
    "#linear model\n",
    "linear_model = W*x+b\n",
    "#loss\n",
    "squared=tf.square(linear_model-y)\n",
    "loss=tf.reduce_sum(squared)"
   ]
  },
  {
   "cell_type": "code",
   "execution_count": 13,
   "metadata": {},
   "outputs": [],
   "source": [
    "#select an optimize loss (alpha: learning rate)\n",
    "optimizer = tf.train.GradientDescentOptimizer(0.001)"
   ]
  },
  {
   "cell_type": "code",
   "execution_count": 14,
   "metadata": {},
   "outputs": [],
   "source": [
    "#minimize loss\n",
    "train=optimizer.minimize(loss)"
   ]
  },
  {
   "cell_type": "code",
   "execution_count": 15,
   "metadata": {},
   "outputs": [],
   "source": [
    "init=tf.global_variables_initializer()\n",
    "sess = tf.Session()"
   ]
  },
  {
   "cell_type": "code",
   "execution_count": 16,
   "metadata": {},
   "outputs": [],
   "source": [
    "sess.run(init)"
   ]
  },
  {
   "cell_type": "code",
   "execution_count": 17,
   "metadata": {},
   "outputs": [],
   "source": [
    "for i in range(1000):\n",
    "    sess.run(train,{x:[1,2,3,4],y:[0,-1,-2,-3]})\n",
    "    #print(i)"
   ]
  },
  {
   "cell_type": "code",
   "execution_count": 18,
   "metadata": {},
   "outputs": [
    {
     "name": "stdout",
     "output_type": "stream",
     "text": [
      "[array([-0.8397583], dtype=float32), array([0.5288696], dtype=float32)]\n"
     ]
    }
   ],
   "source": [
    "print(sess.run([W,b]))"
   ]
  },
  {
   "cell_type": "code",
   "execution_count": 19,
   "metadata": {},
   "outputs": [],
   "source": [
    "sess.close()"
   ]
  },
  {
   "cell_type": "markdown",
   "metadata": {},
   "source": [
    "demo code to explain the basic variables, constants and placeholders"
   ]
  },
  {
   "cell_type": "code",
   "execution_count": 20,
   "metadata": {},
   "outputs": [],
   "source": [
    "state=tf.Variable(0)"
   ]
  },
  {
   "cell_type": "code",
   "execution_count": 21,
   "metadata": {},
   "outputs": [],
   "source": [
    "one=tf.constant(1)"
   ]
  },
  {
   "cell_type": "code",
   "execution_count": 22,
   "metadata": {},
   "outputs": [],
   "source": [
    "new_value=tf.add(state,one)"
   ]
  },
  {
   "cell_type": "code",
   "execution_count": 23,
   "metadata": {},
   "outputs": [
    {
     "name": "stdout",
     "output_type": "stream",
     "text": [
      "Tensor(\"Add_2:0\", shape=(), dtype=int32)\n"
     ]
    }
   ],
   "source": [
    "print(new_value) #it won't show the addition, for that you have to run it in a session"
   ]
  },
  {
   "cell_type": "code",
   "execution_count": 24,
   "metadata": {},
   "outputs": [],
   "source": [
    "update=tf.assign(state, new_value)"
   ]
  },
  {
   "cell_type": "code",
   "execution_count": 25,
   "metadata": {},
   "outputs": [
    {
     "name": "stdout",
     "output_type": "stream",
     "text": [
      "WARNING:tensorflow:From C:\\Users\\Administrator\\Anaconda3\\lib\\site-packages\\tensorflow\\python\\util\\tf_should_use.py:118: initialize_all_variables (from tensorflow.python.ops.variables) is deprecated and will be removed after 2017-03-02.\n",
      "Instructions for updating:\n",
      "Use `tf.global_variables_initializer` instead.\n"
     ]
    }
   ],
   "source": [
    "init_op=tf.initialize_all_variables()"
   ]
  },
  {
   "cell_type": "markdown",
   "metadata": {},
   "source": [
    "Above we have created a graph and this session code executes a graph"
   ]
  },
  {
   "cell_type": "code",
   "execution_count": 26,
   "metadata": {},
   "outputs": [
    {
     "name": "stdout",
     "output_type": "stream",
     "text": [
      "0\n",
      "1\n",
      "2\n",
      "3\n"
     ]
    }
   ],
   "source": [
    "with tf.Session() as session:\n",
    "    session.run(init_op)\n",
    "    print(session.run(state))\n",
    "    for _ in range(3):\n",
    "        session.run(update)\n",
    "        print(session.run(state))"
   ]
  },
  {
   "cell_type": "code",
   "execution_count": 27,
   "metadata": {},
   "outputs": [
    {
     "name": "stdout",
     "output_type": "stream",
     "text": [
      "Tensor(\"Placeholder_4:0\", dtype=float32)\n"
     ]
    }
   ],
   "source": [
    "a=tf.placeholder(tf.float32)\n",
    "print(a)"
   ]
  },
  {
   "cell_type": "code",
   "execution_count": 28,
   "metadata": {},
   "outputs": [],
   "source": [
    "b=a*2"
   ]
  },
  {
   "cell_type": "code",
   "execution_count": 29,
   "metadata": {},
   "outputs": [
    {
     "name": "stdout",
     "output_type": "stream",
     "text": [
      "7.0\n"
     ]
    }
   ],
   "source": [
    "with tf.Session() as sess:\n",
    "    result=sess.run(b,feed_dict={a:3.5}) # as we haven't given any value to a therefore, we are giving a value here\n",
    "    print(result)"
   ]
  },
  {
   "cell_type": "code",
   "execution_count": 30,
   "metadata": {},
   "outputs": [
    {
     "name": "stdout",
     "output_type": "stream",
     "text": [
      "[[13. 14. 15.]\n",
      " [16. 17. 18.]\n",
      " [19. 20. 21.]]\n"
     ]
    }
   ],
   "source": [
    "dictionary={a:[[1,2,3],[4,5,6],[7,8,9],[10,11,12]],b:[[13,14,15],[16,17,18],[19,20,21]]}\n",
    "with tf.Session() as sess:\n",
    "    result=sess.run(b,feed_dict=dictionary)\n",
    "    print(result)"
   ]
  },
  {
   "cell_type": "markdown",
   "metadata": {},
   "source": [
    "Creating a graph"
   ]
  },
  {
   "cell_type": "code",
   "execution_count": 31,
   "metadata": {},
   "outputs": [],
   "source": [
    "import tensorflow as tf"
   ]
  },
  {
   "cell_type": "code",
   "execution_count": 32,
   "metadata": {},
   "outputs": [],
   "source": [
    "graph=tf.get_default_graph()"
   ]
  },
  {
   "cell_type": "code",
   "execution_count": 33,
   "metadata": {},
   "outputs": [
    {
     "data": {
      "text/plain": [
       "[<tf.Operation 'Variable/initial_value' type=Const>,\n",
       " <tf.Operation 'Variable' type=VariableV2>,\n",
       " <tf.Operation 'Variable/Assign' type=Assign>,\n",
       " <tf.Operation 'Variable/read' type=Identity>,\n",
       " <tf.Operation 'Variable_1/initial_value' type=Const>,\n",
       " <tf.Operation 'Variable_1' type=VariableV2>,\n",
       " <tf.Operation 'Variable_1/Assign' type=Assign>,\n",
       " <tf.Operation 'Variable_1/read' type=Identity>,\n",
       " <tf.Operation 'Placeholder' type=Placeholder>,\n",
       " <tf.Operation 'Placeholder_1' type=Placeholder>,\n",
       " <tf.Operation 'mul' type=Mul>,\n",
       " <tf.Operation 'add' type=Add>,\n",
       " <tf.Operation 'sub' type=Sub>,\n",
       " <tf.Operation 'Square' type=Square>,\n",
       " <tf.Operation 'Rank' type=Rank>,\n",
       " <tf.Operation 'range/start' type=Const>,\n",
       " <tf.Operation 'range/delta' type=Const>,\n",
       " <tf.Operation 'range' type=Range>,\n",
       " <tf.Operation 'Sum' type=Sum>,\n",
       " <tf.Operation 'init' type=NoOp>,\n",
       " <tf.Operation 'Variable_2/initial_value' type=Const>,\n",
       " <tf.Operation 'Variable_2' type=VariableV2>,\n",
       " <tf.Operation 'Variable_2/Assign' type=Assign>,\n",
       " <tf.Operation 'Variable_2/read' type=Identity>,\n",
       " <tf.Operation 'Variable_3/initial_value' type=Const>,\n",
       " <tf.Operation 'Variable_3' type=VariableV2>,\n",
       " <tf.Operation 'Variable_3/Assign' type=Assign>,\n",
       " <tf.Operation 'Variable_3/read' type=Identity>,\n",
       " <tf.Operation 'Placeholder_2' type=Placeholder>,\n",
       " <tf.Operation 'Placeholder_3' type=Placeholder>,\n",
       " <tf.Operation 'mul_1' type=Mul>,\n",
       " <tf.Operation 'add_1' type=Add>,\n",
       " <tf.Operation 'sub_1' type=Sub>,\n",
       " <tf.Operation 'Square_1' type=Square>,\n",
       " <tf.Operation 'Rank_1' type=Rank>,\n",
       " <tf.Operation 'range_1/start' type=Const>,\n",
       " <tf.Operation 'range_1/delta' type=Const>,\n",
       " <tf.Operation 'range_1' type=Range>,\n",
       " <tf.Operation 'Sum_1' type=Sum>,\n",
       " <tf.Operation 'gradients/Shape' type=Const>,\n",
       " <tf.Operation 'gradients/grad_ys_0' type=Const>,\n",
       " <tf.Operation 'gradients/Fill' type=Fill>,\n",
       " <tf.Operation 'gradients/Sum_1_grad/Shape' type=Shape>,\n",
       " <tf.Operation 'gradients/Sum_1_grad/Size' type=Size>,\n",
       " <tf.Operation 'gradients/Sum_1_grad/add' type=Add>,\n",
       " <tf.Operation 'gradients/Sum_1_grad/mod' type=FloorMod>,\n",
       " <tf.Operation 'gradients/Sum_1_grad/Shape_1' type=Shape>,\n",
       " <tf.Operation 'gradients/Sum_1_grad/range/start' type=Const>,\n",
       " <tf.Operation 'gradients/Sum_1_grad/range/delta' type=Const>,\n",
       " <tf.Operation 'gradients/Sum_1_grad/range' type=Range>,\n",
       " <tf.Operation 'gradients/Sum_1_grad/Fill/value' type=Const>,\n",
       " <tf.Operation 'gradients/Sum_1_grad/Fill' type=Fill>,\n",
       " <tf.Operation 'gradients/Sum_1_grad/DynamicStitch' type=DynamicStitch>,\n",
       " <tf.Operation 'gradients/Sum_1_grad/Maximum/y' type=Const>,\n",
       " <tf.Operation 'gradients/Sum_1_grad/Maximum' type=Maximum>,\n",
       " <tf.Operation 'gradients/Sum_1_grad/floordiv' type=FloorDiv>,\n",
       " <tf.Operation 'gradients/Sum_1_grad/Reshape' type=Reshape>,\n",
       " <tf.Operation 'gradients/Sum_1_grad/Tile' type=Tile>,\n",
       " <tf.Operation 'gradients/Square_1_grad/Const' type=Const>,\n",
       " <tf.Operation 'gradients/Square_1_grad/Mul' type=Mul>,\n",
       " <tf.Operation 'gradients/Square_1_grad/Mul_1' type=Mul>,\n",
       " <tf.Operation 'gradients/sub_1_grad/Shape' type=Shape>,\n",
       " <tf.Operation 'gradients/sub_1_grad/Shape_1' type=Shape>,\n",
       " <tf.Operation 'gradients/sub_1_grad/BroadcastGradientArgs' type=BroadcastGradientArgs>,\n",
       " <tf.Operation 'gradients/sub_1_grad/Sum' type=Sum>,\n",
       " <tf.Operation 'gradients/sub_1_grad/Reshape' type=Reshape>,\n",
       " <tf.Operation 'gradients/sub_1_grad/Sum_1' type=Sum>,\n",
       " <tf.Operation 'gradients/sub_1_grad/Neg' type=Neg>,\n",
       " <tf.Operation 'gradients/sub_1_grad/Reshape_1' type=Reshape>,\n",
       " <tf.Operation 'gradients/sub_1_grad/tuple/group_deps' type=NoOp>,\n",
       " <tf.Operation 'gradients/sub_1_grad/tuple/control_dependency' type=Identity>,\n",
       " <tf.Operation 'gradients/sub_1_grad/tuple/control_dependency_1' type=Identity>,\n",
       " <tf.Operation 'gradients/add_1_grad/Shape' type=Shape>,\n",
       " <tf.Operation 'gradients/add_1_grad/Shape_1' type=Const>,\n",
       " <tf.Operation 'gradients/add_1_grad/BroadcastGradientArgs' type=BroadcastGradientArgs>,\n",
       " <tf.Operation 'gradients/add_1_grad/Sum' type=Sum>,\n",
       " <tf.Operation 'gradients/add_1_grad/Reshape' type=Reshape>,\n",
       " <tf.Operation 'gradients/add_1_grad/Sum_1' type=Sum>,\n",
       " <tf.Operation 'gradients/add_1_grad/Reshape_1' type=Reshape>,\n",
       " <tf.Operation 'gradients/add_1_grad/tuple/group_deps' type=NoOp>,\n",
       " <tf.Operation 'gradients/add_1_grad/tuple/control_dependency' type=Identity>,\n",
       " <tf.Operation 'gradients/add_1_grad/tuple/control_dependency_1' type=Identity>,\n",
       " <tf.Operation 'gradients/mul_1_grad/Shape' type=Const>,\n",
       " <tf.Operation 'gradients/mul_1_grad/Shape_1' type=Shape>,\n",
       " <tf.Operation 'gradients/mul_1_grad/BroadcastGradientArgs' type=BroadcastGradientArgs>,\n",
       " <tf.Operation 'gradients/mul_1_grad/Mul' type=Mul>,\n",
       " <tf.Operation 'gradients/mul_1_grad/Sum' type=Sum>,\n",
       " <tf.Operation 'gradients/mul_1_grad/Reshape' type=Reshape>,\n",
       " <tf.Operation 'gradients/mul_1_grad/Mul_1' type=Mul>,\n",
       " <tf.Operation 'gradients/mul_1_grad/Sum_1' type=Sum>,\n",
       " <tf.Operation 'gradients/mul_1_grad/Reshape_1' type=Reshape>,\n",
       " <tf.Operation 'gradients/mul_1_grad/tuple/group_deps' type=NoOp>,\n",
       " <tf.Operation 'gradients/mul_1_grad/tuple/control_dependency' type=Identity>,\n",
       " <tf.Operation 'gradients/mul_1_grad/tuple/control_dependency_1' type=Identity>,\n",
       " <tf.Operation 'GradientDescent/learning_rate' type=Const>,\n",
       " <tf.Operation 'GradientDescent/update_Variable_2/ApplyGradientDescent' type=ApplyGradientDescent>,\n",
       " <tf.Operation 'GradientDescent/update_Variable_3/ApplyGradientDescent' type=ApplyGradientDescent>,\n",
       " <tf.Operation 'GradientDescent' type=NoOp>,\n",
       " <tf.Operation 'init_1' type=NoOp>,\n",
       " <tf.Operation 'Variable_4/initial_value' type=Const>,\n",
       " <tf.Operation 'Variable_4' type=VariableV2>,\n",
       " <tf.Operation 'Variable_4/Assign' type=Assign>,\n",
       " <tf.Operation 'Variable_4/read' type=Identity>,\n",
       " <tf.Operation 'Const' type=Const>,\n",
       " <tf.Operation 'Add_2' type=Add>,\n",
       " <tf.Operation 'Assign' type=Assign>,\n",
       " <tf.Operation 'init_2' type=NoOp>,\n",
       " <tf.Operation 'Placeholder_4' type=Placeholder>,\n",
       " <tf.Operation 'mul_2/y' type=Const>,\n",
       " <tf.Operation 'mul_2' type=Mul>]"
      ]
     },
     "execution_count": 33,
     "metadata": {},
     "output_type": "execute_result"
    }
   ],
   "source": [
    "graph.get_operations()"
   ]
  },
  {
   "cell_type": "code",
   "execution_count": 34,
   "metadata": {},
   "outputs": [],
   "source": [
    "a=tf.constant(10, name=\"a\")"
   ]
  },
  {
   "cell_type": "code",
   "execution_count": 35,
   "metadata": {},
   "outputs": [],
   "source": [
    "b=tf.constant(20, name=\"b\")"
   ]
  },
  {
   "cell_type": "code",
   "execution_count": 36,
   "metadata": {},
   "outputs": [],
   "source": [
    "c=tf.add(a,b, name=\"c\")"
   ]
  },
  {
   "cell_type": "code",
   "execution_count": 37,
   "metadata": {},
   "outputs": [],
   "source": [
    "d=tf.multiply(a,b, name=\"d\")"
   ]
  },
  {
   "cell_type": "code",
   "execution_count": 38,
   "metadata": {},
   "outputs": [],
   "source": [
    "e=tf.multiply(c,d, name=\"e\")"
   ]
  },
  {
   "cell_type": "code",
   "execution_count": 39,
   "metadata": {},
   "outputs": [
    {
     "data": {
      "text/plain": [
       "[<tf.Operation 'Variable/initial_value' type=Const>,\n",
       " <tf.Operation 'Variable' type=VariableV2>,\n",
       " <tf.Operation 'Variable/Assign' type=Assign>,\n",
       " <tf.Operation 'Variable/read' type=Identity>,\n",
       " <tf.Operation 'Variable_1/initial_value' type=Const>,\n",
       " <tf.Operation 'Variable_1' type=VariableV2>,\n",
       " <tf.Operation 'Variable_1/Assign' type=Assign>,\n",
       " <tf.Operation 'Variable_1/read' type=Identity>,\n",
       " <tf.Operation 'Placeholder' type=Placeholder>,\n",
       " <tf.Operation 'Placeholder_1' type=Placeholder>,\n",
       " <tf.Operation 'mul' type=Mul>,\n",
       " <tf.Operation 'add' type=Add>,\n",
       " <tf.Operation 'sub' type=Sub>,\n",
       " <tf.Operation 'Square' type=Square>,\n",
       " <tf.Operation 'Rank' type=Rank>,\n",
       " <tf.Operation 'range/start' type=Const>,\n",
       " <tf.Operation 'range/delta' type=Const>,\n",
       " <tf.Operation 'range' type=Range>,\n",
       " <tf.Operation 'Sum' type=Sum>,\n",
       " <tf.Operation 'init' type=NoOp>,\n",
       " <tf.Operation 'Variable_2/initial_value' type=Const>,\n",
       " <tf.Operation 'Variable_2' type=VariableV2>,\n",
       " <tf.Operation 'Variable_2/Assign' type=Assign>,\n",
       " <tf.Operation 'Variable_2/read' type=Identity>,\n",
       " <tf.Operation 'Variable_3/initial_value' type=Const>,\n",
       " <tf.Operation 'Variable_3' type=VariableV2>,\n",
       " <tf.Operation 'Variable_3/Assign' type=Assign>,\n",
       " <tf.Operation 'Variable_3/read' type=Identity>,\n",
       " <tf.Operation 'Placeholder_2' type=Placeholder>,\n",
       " <tf.Operation 'Placeholder_3' type=Placeholder>,\n",
       " <tf.Operation 'mul_1' type=Mul>,\n",
       " <tf.Operation 'add_1' type=Add>,\n",
       " <tf.Operation 'sub_1' type=Sub>,\n",
       " <tf.Operation 'Square_1' type=Square>,\n",
       " <tf.Operation 'Rank_1' type=Rank>,\n",
       " <tf.Operation 'range_1/start' type=Const>,\n",
       " <tf.Operation 'range_1/delta' type=Const>,\n",
       " <tf.Operation 'range_1' type=Range>,\n",
       " <tf.Operation 'Sum_1' type=Sum>,\n",
       " <tf.Operation 'gradients/Shape' type=Const>,\n",
       " <tf.Operation 'gradients/grad_ys_0' type=Const>,\n",
       " <tf.Operation 'gradients/Fill' type=Fill>,\n",
       " <tf.Operation 'gradients/Sum_1_grad/Shape' type=Shape>,\n",
       " <tf.Operation 'gradients/Sum_1_grad/Size' type=Size>,\n",
       " <tf.Operation 'gradients/Sum_1_grad/add' type=Add>,\n",
       " <tf.Operation 'gradients/Sum_1_grad/mod' type=FloorMod>,\n",
       " <tf.Operation 'gradients/Sum_1_grad/Shape_1' type=Shape>,\n",
       " <tf.Operation 'gradients/Sum_1_grad/range/start' type=Const>,\n",
       " <tf.Operation 'gradients/Sum_1_grad/range/delta' type=Const>,\n",
       " <tf.Operation 'gradients/Sum_1_grad/range' type=Range>,\n",
       " <tf.Operation 'gradients/Sum_1_grad/Fill/value' type=Const>,\n",
       " <tf.Operation 'gradients/Sum_1_grad/Fill' type=Fill>,\n",
       " <tf.Operation 'gradients/Sum_1_grad/DynamicStitch' type=DynamicStitch>,\n",
       " <tf.Operation 'gradients/Sum_1_grad/Maximum/y' type=Const>,\n",
       " <tf.Operation 'gradients/Sum_1_grad/Maximum' type=Maximum>,\n",
       " <tf.Operation 'gradients/Sum_1_grad/floordiv' type=FloorDiv>,\n",
       " <tf.Operation 'gradients/Sum_1_grad/Reshape' type=Reshape>,\n",
       " <tf.Operation 'gradients/Sum_1_grad/Tile' type=Tile>,\n",
       " <tf.Operation 'gradients/Square_1_grad/Const' type=Const>,\n",
       " <tf.Operation 'gradients/Square_1_grad/Mul' type=Mul>,\n",
       " <tf.Operation 'gradients/Square_1_grad/Mul_1' type=Mul>,\n",
       " <tf.Operation 'gradients/sub_1_grad/Shape' type=Shape>,\n",
       " <tf.Operation 'gradients/sub_1_grad/Shape_1' type=Shape>,\n",
       " <tf.Operation 'gradients/sub_1_grad/BroadcastGradientArgs' type=BroadcastGradientArgs>,\n",
       " <tf.Operation 'gradients/sub_1_grad/Sum' type=Sum>,\n",
       " <tf.Operation 'gradients/sub_1_grad/Reshape' type=Reshape>,\n",
       " <tf.Operation 'gradients/sub_1_grad/Sum_1' type=Sum>,\n",
       " <tf.Operation 'gradients/sub_1_grad/Neg' type=Neg>,\n",
       " <tf.Operation 'gradients/sub_1_grad/Reshape_1' type=Reshape>,\n",
       " <tf.Operation 'gradients/sub_1_grad/tuple/group_deps' type=NoOp>,\n",
       " <tf.Operation 'gradients/sub_1_grad/tuple/control_dependency' type=Identity>,\n",
       " <tf.Operation 'gradients/sub_1_grad/tuple/control_dependency_1' type=Identity>,\n",
       " <tf.Operation 'gradients/add_1_grad/Shape' type=Shape>,\n",
       " <tf.Operation 'gradients/add_1_grad/Shape_1' type=Const>,\n",
       " <tf.Operation 'gradients/add_1_grad/BroadcastGradientArgs' type=BroadcastGradientArgs>,\n",
       " <tf.Operation 'gradients/add_1_grad/Sum' type=Sum>,\n",
       " <tf.Operation 'gradients/add_1_grad/Reshape' type=Reshape>,\n",
       " <tf.Operation 'gradients/add_1_grad/Sum_1' type=Sum>,\n",
       " <tf.Operation 'gradients/add_1_grad/Reshape_1' type=Reshape>,\n",
       " <tf.Operation 'gradients/add_1_grad/tuple/group_deps' type=NoOp>,\n",
       " <tf.Operation 'gradients/add_1_grad/tuple/control_dependency' type=Identity>,\n",
       " <tf.Operation 'gradients/add_1_grad/tuple/control_dependency_1' type=Identity>,\n",
       " <tf.Operation 'gradients/mul_1_grad/Shape' type=Const>,\n",
       " <tf.Operation 'gradients/mul_1_grad/Shape_1' type=Shape>,\n",
       " <tf.Operation 'gradients/mul_1_grad/BroadcastGradientArgs' type=BroadcastGradientArgs>,\n",
       " <tf.Operation 'gradients/mul_1_grad/Mul' type=Mul>,\n",
       " <tf.Operation 'gradients/mul_1_grad/Sum' type=Sum>,\n",
       " <tf.Operation 'gradients/mul_1_grad/Reshape' type=Reshape>,\n",
       " <tf.Operation 'gradients/mul_1_grad/Mul_1' type=Mul>,\n",
       " <tf.Operation 'gradients/mul_1_grad/Sum_1' type=Sum>,\n",
       " <tf.Operation 'gradients/mul_1_grad/Reshape_1' type=Reshape>,\n",
       " <tf.Operation 'gradients/mul_1_grad/tuple/group_deps' type=NoOp>,\n",
       " <tf.Operation 'gradients/mul_1_grad/tuple/control_dependency' type=Identity>,\n",
       " <tf.Operation 'gradients/mul_1_grad/tuple/control_dependency_1' type=Identity>,\n",
       " <tf.Operation 'GradientDescent/learning_rate' type=Const>,\n",
       " <tf.Operation 'GradientDescent/update_Variable_2/ApplyGradientDescent' type=ApplyGradientDescent>,\n",
       " <tf.Operation 'GradientDescent/update_Variable_3/ApplyGradientDescent' type=ApplyGradientDescent>,\n",
       " <tf.Operation 'GradientDescent' type=NoOp>,\n",
       " <tf.Operation 'init_1' type=NoOp>,\n",
       " <tf.Operation 'Variable_4/initial_value' type=Const>,\n",
       " <tf.Operation 'Variable_4' type=VariableV2>,\n",
       " <tf.Operation 'Variable_4/Assign' type=Assign>,\n",
       " <tf.Operation 'Variable_4/read' type=Identity>,\n",
       " <tf.Operation 'Const' type=Const>,\n",
       " <tf.Operation 'Add_2' type=Add>,\n",
       " <tf.Operation 'Assign' type=Assign>,\n",
       " <tf.Operation 'init_2' type=NoOp>,\n",
       " <tf.Operation 'Placeholder_4' type=Placeholder>,\n",
       " <tf.Operation 'mul_2/y' type=Const>,\n",
       " <tf.Operation 'mul_2' type=Mul>,\n",
       " <tf.Operation 'a' type=Const>,\n",
       " <tf.Operation 'b' type=Const>,\n",
       " <tf.Operation 'c' type=Add>,\n",
       " <tf.Operation 'd' type=Mul>,\n",
       " <tf.Operation 'e' type=Mul>]"
      ]
     },
     "execution_count": 39,
     "metadata": {},
     "output_type": "execute_result"
    }
   ],
   "source": [
    "operations=graph.get_operations()\n",
    "operations"
   ]
  },
  {
   "cell_type": "code",
   "execution_count": 40,
   "metadata": {},
   "outputs": [
    {
     "data": {
      "text/plain": [
       "name: \"Variable/initial_value\"\n",
       "op: \"Const\"\n",
       "attr {\n",
       "  key: \"dtype\"\n",
       "  value {\n",
       "    type: DT_FLOAT\n",
       "  }\n",
       "}\n",
       "attr {\n",
       "  key: \"value\"\n",
       "  value {\n",
       "    tensor {\n",
       "      dtype: DT_FLOAT\n",
       "      tensor_shape {\n",
       "        dim {\n",
       "          size: 1\n",
       "        }\n",
       "      }\n",
       "      float_val: -1.0\n",
       "    }\n",
       "  }\n",
       "}"
      ]
     },
     "execution_count": 40,
     "metadata": {},
     "output_type": "execute_result"
    }
   ],
   "source": [
    "operations[0].node_def"
   ]
  },
  {
   "cell_type": "code",
   "execution_count": 41,
   "metadata": {},
   "outputs": [],
   "source": [
    "sess=tf.Session()"
   ]
  },
  {
   "cell_type": "code",
   "execution_count": 42,
   "metadata": {},
   "outputs": [
    {
     "name": "stdout",
     "output_type": "stream",
     "text": [
      "6000\n"
     ]
    }
   ],
   "source": [
    "print(sess.run(e))"
   ]
  },
  {
   "cell_type": "code",
   "execution_count": 43,
   "metadata": {},
   "outputs": [],
   "source": [
    "sess.close() # as we are not using with we give close(), otherwise not require."
   ]
  },
  {
   "cell_type": "markdown",
   "metadata": {},
   "source": [
    "Solve:\n",
    "y=4(a^2)+5(b^2)+35 ;\n",
    "a=-5\n",
    "b=3"
   ]
  }
 ],
 "metadata": {
  "kernelspec": {
   "display_name": "Python 3",
   "language": "python",
   "name": "python3"
  },
  "language_info": {
   "codemirror_mode": {
    "name": "ipython",
    "version": 3
   },
   "file_extension": ".py",
   "mimetype": "text/x-python",
   "name": "python",
   "nbconvert_exporter": "python",
   "pygments_lexer": "ipython3",
   "version": "3.6.4"
  }
 },
 "nbformat": 4,
 "nbformat_minor": 2
}
